{
 "cells": [
  {
   "cell_type": "code",
   "execution_count": 7,
   "metadata": {},
   "outputs": [],
   "source": [
    "import math\n",
    "import numpy as np\n",
    "import matplotlib.pyplot as plt\n",
    "\n",
    "class LogisticRegression:\n",
    "    \n",
    "    def __init__(self,alpha=0.5): #This takes the alpha or learning rate from user\n",
    "        self.alp=alpha\n",
    "        \n",
    "    def sigmoid(self,z): #function to calculate sigmoid\n",
    "        return 1/(1+(math.exp(-z)))\n",
    "    \n",
    "    def fit(self,X,y): #for calculationg weights\n",
    "\n",
    "        x=np.array(X,ndmin=2)\n",
    "        y=np.array(y)\n",
    "        \n",
    "        x1=x[:,0]\n",
    "        x2=x[:,1]\n",
    "        \n",
    "        m,n=np.shape(x)\n",
    "        \n",
    "        self.w=np.random.rand(n+1,1) #initialise random weights\n",
    "        \n",
    "        yhat=np.empty(m)\n",
    "        \n",
    "        #calculate yhat for the random weights\n",
    "        #loop is traversion all the rows of x\n",
    "        for i in range(0,m):\n",
    "            #z= w0 + w1*x1 + w2*x2 + ... + wn*xn = \n",
    "            z=np.dot((np.insert(x[i,:],0,1,axis=0)),self.w)\n",
    "            yhat[i]=self.sigmoid(z)\n",
    "            \n",
    "        error=list()\n",
    "        error.append(1) #take initial error as 1, so that it cant increase anymore\n",
    "        \n",
    "        J=list()\n",
    "        \n",
    "        #calculate initial loss function from ground truth y and initial prediction yhat(from initial random w)\n",
    "        #isnt really used.. calculated just for seeing how J is reducing\n",
    "        J.append(-1*sum( ( y*np.log(yhat) ) +( (1-y) * np.log(1-yhat) )))\n",
    "        \n",
    "        iteration=0\n",
    "        \n",
    "        while(error[iteration]>0.000001):\n",
    "            \n",
    "            #calculate yhat-y for later use\n",
    "            pred_error=yhat-y\n",
    "            iteration+=1\n",
    "            \n",
    "            gradient=np.empty((n+1,1))\n",
    "            #use the gradient formula obtained from differentiation of loss function..\n",
    "            #the first term of gradient has no x multiplied\n",
    "            #it is the bias term with x=1\n",
    "            gradient[0,0]=sum(pred_error)\n",
    "    \n",
    "            #subsequent terms of the gradient have to be obtained from sum of all (yhat-y)\n",
    "            #multiplied with the x corresponding the w\n",
    "            for j in range(1,n+1):\n",
    "                gradient[j,0]=sum(pred_error*x[:,j-1])\n",
    "            \n",
    "            #w is reduced in the direction of the gradient\n",
    "            self.w=self.w-(self.alp*gradient)\n",
    "    \n",
    "            #yhat is calculated for the new set of parameters w\n",
    "            for i in range(0,m):\n",
    "                z=np.dot((np.insert(x[i,:],0,1,axis=0)),self.w)\n",
    "                yhat[i]=self.sigmoid(z)\n",
    "                \n",
    "            #J is calculated again.. just for the kicks\n",
    "            J.append(-1*sum( ( y*np.log(yhat) ) +( (1-y) * np.log(1-yhat) )))\n",
    "            \n",
    "            #error is calculated so that the function can stop.\n",
    "            error.append(abs(J[iteration]-J[iteration-1]))\n",
    "            \n",
    "    def predict(self,X):\n",
    "        x=np.array(X,ndmin=2)\n",
    "        \n",
    "        m,n=np.shape(x)\n",
    "        \n",
    "        y=np.empty(m,dtype=\"int64\")\n",
    "        \n",
    "        #Calculate yhat using the fitted params\n",
    "        #loop is traversion all the rows of x\n",
    "        for i in range(0,m):\n",
    "            z=np.dot((np.insert(x[i,:],0,1,axis=0)),self.w)\n",
    "            #if sigmoid >=0.5 classify as 1, or else classify as 0\n",
    "            if(self.sigmoid(z)>=0.5):\n",
    "                y[i]=1\n",
    "            else:\n",
    "                y[i]=0\n",
    "        return y"
   ]
  },
  {
   "cell_type": "code",
   "execution_count": 8,
   "metadata": {},
   "outputs": [],
   "source": [
    "X=[[0,0,0],[0,0,1],[0,1,0],[0,1,1],[1,0,0],[1,0,1],[1,1,0],[1,1,1]]\n",
    "y=[0,0,0,1,1,0,0,1]\n",
    "\n",
    "regressor=LogisticRegression()"
   ]
  },
  {
   "cell_type": "code",
   "execution_count": 9,
   "metadata": {},
   "outputs": [],
   "source": [
    "regressor.fit(X,y)"
   ]
  },
  {
   "cell_type": "code",
   "execution_count": 10,
   "metadata": {},
   "outputs": [],
   "source": [
    "k=regressor.predict([[0,0,0],[0,0,1],[0,1,0],[0,1,1],[1,0,0],[1,0,1],[1,1,0],[1,1,1]])"
   ]
  },
  {
   "cell_type": "code",
   "execution_count": 11,
   "metadata": {},
   "outputs": [
    {
     "data": {
      "text/plain": [
       "array([0, 0, 0, 0, 0, 0, 0, 1])"
      ]
     },
     "execution_count": 11,
     "metadata": {},
     "output_type": "execute_result"
    }
   ],
   "source": [
    "k"
   ]
  }
 ],
 "metadata": {
  "kernelspec": {
   "display_name": "Python 3",
   "language": "python",
   "name": "python3"
  },
  "language_info": {
   "codemirror_mode": {
    "name": "ipython",
    "version": 3
   },
   "file_extension": ".py",
   "mimetype": "text/x-python",
   "name": "python",
   "nbconvert_exporter": "python",
   "pygments_lexer": "ipython3",
   "version": "3.7.2"
  }
 },
 "nbformat": 4,
 "nbformat_minor": 2
}
